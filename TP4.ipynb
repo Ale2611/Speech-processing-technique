{
 "cells": [
  {
   "cell_type": "code",
   "execution_count": 3,
   "id": "854fdbce-cca2-457b-9ab7-ded8a36ad370",
   "metadata": {},
   "outputs": [
    {
     "name": "stdout",
     "output_type": "stream",
     "text": [
      "Collecting gtts\n",
      "  Downloading gTTS-2.5.3-py3-none-any.whl.metadata (4.1 kB)\n",
      "Requirement already satisfied: requests<3,>=2.27 in /opt/anaconda3/lib/python3.11/site-packages (from gtts) (2.32.3)\n",
      "Requirement already satisfied: click<8.2,>=7.1 in /opt/anaconda3/lib/python3.11/site-packages (from gtts) (8.1.7)\n",
      "Requirement already satisfied: charset-normalizer<4,>=2 in /opt/anaconda3/lib/python3.11/site-packages (from requests<3,>=2.27->gtts) (2.0.4)\n",
      "Requirement already satisfied: idna<4,>=2.5 in /opt/anaconda3/lib/python3.11/site-packages (from requests<3,>=2.27->gtts) (3.4)\n",
      "Requirement already satisfied: urllib3<3,>=1.21.1 in /opt/anaconda3/lib/python3.11/site-packages (from requests<3,>=2.27->gtts) (2.0.7)\n",
      "Requirement already satisfied: certifi>=2017.4.17 in /opt/anaconda3/lib/python3.11/site-packages (from requests<3,>=2.27->gtts) (2024.7.4)\n",
      "Downloading gTTS-2.5.3-py3-none-any.whl (29 kB)\n",
      "Installing collected packages: gtts\n",
      "Successfully installed gtts-2.5.3\n",
      "Note: you may need to restart the kernel to use updated packages.\n"
     ]
    }
   ],
   "source": [
    "pip install gtts"
   ]
  },
  {
   "cell_type": "code",
   "execution_count": 9,
   "id": "2eca8dbe-4491-454e-8993-fd0526de3ab7",
   "metadata": {},
   "outputs": [
    {
     "name": "stdout",
     "output_type": "stream",
     "text": [
      "Collecting playsound\n",
      "  Downloading playsound-1.3.0.tar.gz (7.7 kB)\n",
      "  Preparing metadata (setup.py) ... \u001b[?25ldone\n",
      "\u001b[?25hBuilding wheels for collected packages: playsound\n",
      "  Building wheel for playsound (setup.py) ... \u001b[?25ldone\n",
      "\u001b[?25h  Created wheel for playsound: filename=playsound-1.3.0-py3-none-any.whl size=7020 sha256=b160c5672692d6b606ca3791f05c6b34e46d6150c66e9a566dea64501b680697\n",
      "  Stored in directory: /Users/aliocha/Library/Caches/pip/wheels/50/98/42/62753a9e1fb97579a0ce2f84f7db4c21c09d03bb2091e6cef4\n",
      "Successfully built playsound\n",
      "Installing collected packages: playsound\n",
      "Successfully installed playsound-1.3.0\n",
      "Note: you may need to restart the kernel to use updated packages.\n"
     ]
    }
   ],
   "source": [
    "pip install playsound"
   ]
  },
  {
   "cell_type": "code",
   "execution_count": 4,
   "id": "16ee0144-05b2-45fd-bab0-1037ccd95712",
   "metadata": {},
   "outputs": [],
   "source": [
    "# 1: Escribir hola mundo en un archivo, en idioma español\n",
    "from gtts import gTTS\n",
    "tts = gTTS('Hola mundo. Estamos convirtiendo texto a voz con Python.', lang='es')\n",
    "tts.save(\"1_hola_mundo.mp3\")\n",
    "\n"
   ]
  },
  {
   "cell_type": "code",
   "execution_count": 6,
   "id": "a0201880-d4e2-44ae-9953-7047cba7ee07",
   "metadata": {},
   "outputs": [],
   "source": [
    "# 2: Escribir hola mundo en un archivo abierto con open, en idioma español\n",
    "\n",
    "from gtts import gTTS\n",
    "tts = gTTS('Hola mundo. Estamos convirtiendo texto a voz con Python.', lang='es-us')\n",
    "\n",
    "with open(\"2_hola_mundo.mp3\", \"wb\") as archivo:\n",
    "    tts.write_to_fp(archivo)\n"
   ]
  },
  {
   "cell_type": "code",
   "execution_count": 7,
   "id": "b87efa5a-dcc4-4867-9842-44e524d75a0f",
   "metadata": {},
   "outputs": [],
   "source": [
    "#  3: Escribir múltiples idiomas en un archivo\n",
    "from gtts import gTTS\n",
    "tts = gTTS('Hola mundo. Estamos convirtiendo texto a voz con Python.', lang='es-us')\n",
    "tts_ingles = gTTS('Hello world! testing tts in Python', lang='en')\n",
    "tts_frances = gTTS('Bonsoir, nous sommes en train de convertir un text en une voix, avec Python', lang='fr-#')\n",
    "\n",
    "with open(\"3_hola_es_en_fr.mp3\", \"wb\") as archivo:\n",
    "    tts.write_to_fp(archivo)\n",
    "    tts_ingles.write_to_fp(archivo)\n",
    "    tts_frances.write_to_fp(archivo)\n"
   ]
  },
  {
   "cell_type": "code",
   "execution_count": 10,
   "id": "e46815ef-d7ba-44d3-928c-4d17b7748e96",
   "metadata": {},
   "outputs": [],
   "source": [
    "#  4: Escribir hola mundo en un archivo, en idioma español y después reproducirlo la propiedad para cambiar el idioma del texto señale cual es \n",
    "from gtts import gTTS\n",
    "from playsound import playsound\n",
    "NOMBRE_ARCHIVO = \"sonido_generado.mp3\"\n",
    "tts = gTTS('Hola mundo. Estamos convirtiendo texto a voz con Python.', lang='es-us')\n",
    "# Nota: podríamos llamar directamente a save\n",
    "with open(NOMBRE_ARCHIVO, \"wb\") as archivo:\n",
    "    tts.write_to_fp(archivo)\n",
    "\n",
    "playsound(NOMBRE_ARCHIVO)\n"
   ]
  },
  {
   "cell_type": "code",
   "execution_count": 12,
   "id": "a081e3ac-01cc-40fc-a59b-dfcee6edbc14",
   "metadata": {},
   "outputs": [],
   "source": [
    "#  5: TTS con velocidad lenta\n",
    "#Investigue la propiedad Slow\n",
    "\n",
    "from gtts import gTTS\n",
    "tts = gTTS('Hola mundo. Estamos convirtiendo texto a voz con Python.', lang='es-us', slow=True)\n",
    "tts.save(\"5_hola_mundo.mp3\")\n"
   ]
  }
 ],
 "metadata": {
  "kernelspec": {
   "display_name": "Python 3 (ipykernel)",
   "language": "python",
   "name": "python3"
  },
  "language_info": {
   "codemirror_mode": {
    "name": "ipython",
    "version": 3
   },
   "file_extension": ".py",
   "mimetype": "text/x-python",
   "name": "python",
   "nbconvert_exporter": "python",
   "pygments_lexer": "ipython3",
   "version": "3.11.7"
  }
 },
 "nbformat": 4,
 "nbformat_minor": 5
}
